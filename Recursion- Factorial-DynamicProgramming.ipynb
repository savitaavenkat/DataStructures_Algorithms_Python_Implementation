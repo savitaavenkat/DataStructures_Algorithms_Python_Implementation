{
 "cells": [
  {
   "cell_type": "code",
   "execution_count": 1,
   "metadata": {},
   "outputs": [],
   "source": [
    "# Recursion approach to find factorial(N)//\n",
    "def findFactorial(num): \n",
    "    # O(N) and O(N) space complexity as N times values get stored to call stack\n",
    "    if num >= 1:\n",
    "        factN = num * findFactorial(num-1)\n",
    "    elif num == 0:\n",
    "        return 1\n",
    "        \n",
    "    return factN"
   ]
  },
  {
   "cell_type": "code",
   "execution_count": 2,
   "metadata": {},
   "outputs": [],
   "source": [
    "# Dynamic programming Bottom-Up approach//\n",
    "def findFactorialDP(num): \n",
    "    # time complexity O(N), cause atmost n times loop executes, \n",
    "    # +1 constant time factor for lets say for defining fact[0]= 1\n",
    "    # O(N) space complexity\n",
    "    if num < 0:\n",
    "        return \"Undefined.\"\n",
    "    fact = [num*0] # initialize a list of length num\n",
    "    fact[0] = 1 # define 0! = 1\n",
    "    for iter in range(1, num+1):\n",
    "        fact.append(iter * fact[iter-1])\n",
    "        \n",
    "    return fact[num]"
   ]
  },
  {
   "cell_type": "code",
   "execution_count": 3,
   "metadata": {},
   "outputs": [
    {
     "name": "stdout",
     "output_type": "stream",
     "text": [
      "Recursive Approach:\n",
      "Fact(-1): Undefined.\n",
      "Fact(0): 1\n",
      "Fact(1): 1\n",
      "Fact(2): 2\n",
      "Fact(10): 3628800\n",
      "Fact(3): 6\n",
      "Fact(4): 24\n",
      "Fact(5): 120\n",
      "\n",
      "DP Approach:\n",
      "Fact(-1): Undefined.\n",
      "Fact(0): 1\n",
      "Fact(1): 1\n",
      "Fact(2): 2\n",
      "Fact(10): 3628800\n",
      "Fact(3): 6\n",
      "Fact(4): 24\n",
      "Fact(5): 120\n"
     ]
    }
   ],
   "source": [
    "if __name__ == '__main__':\n",
    "    factArr = [-1, 0, 1, 2, 10, 3, 4, 5] \n",
    "    # Calls recursive factorial\n",
    "    print(\"Recursive Approach:\")\n",
    "    for iter in factArr:\n",
    "        if iter >= 0:\n",
    "            print(str(\"Fact(\")+str(iter)+str(\"): \")+str(findFactorial(iter)))\n",
    "        else:\n",
    "            print(str(\"Fact(\")+str(iter)+str(\"): \")+str(\"Undefined.\"))\n",
    "            \n",
    "    # Calls DP method\n",
    "    print(\"\\nDP Approach:\")\n",
    "    for iter in factArr:\n",
    "        print(str(\"Fact(\")+str(iter)+str(\"): \")+str(findFactorialDP(iter)))"
   ]
  }
 ],
 "metadata": {
  "kernelspec": {
   "display_name": "Python 3",
   "language": "python",
   "name": "python3"
  },
  "language_info": {
   "codemirror_mode": {
    "name": "ipython",
    "version": 3
   },
   "file_extension": ".py",
   "mimetype": "text/x-python",
   "name": "python",
   "nbconvert_exporter": "python",
   "pygments_lexer": "ipython3",
   "version": "3.7.3"
  }
 },
 "nbformat": 4,
 "nbformat_minor": 2
}
